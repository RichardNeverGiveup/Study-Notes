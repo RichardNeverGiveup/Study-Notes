{
 "cells": [
  {
   "cell_type": "markdown",
   "metadata": {},
   "source": [
    "## What is Overloading?\n",
    "x + y calls the _int_ class `__add__` method when x is an integer, but it calls float type 's `__add__`\n",
    "method when x is a float.  \n",
    "`+` operator corresponds to `x.__add__(y)`"
   ]
  },
  {
   "cell_type": "code",
   "execution_count": 14,
   "metadata": {},
   "outputs": [
    {
     "name": "stdout",
     "output_type": "stream",
     "text": [
      "WOOOOFbarkbark\n",
      "Puppy of Tom and Lisa\n"
     ]
    }
   ],
   "source": [
    "class Dog:\n",
    "    def __init__(self, name, speakText):\n",
    "        self.name = name\n",
    "        self.speakText = speakText\n",
    "        \n",
    "    def speak(self):\n",
    "        return self.speakText\n",
    "    \n",
    "    def getName(self):\n",
    "        return self.name\n",
    "    \n",
    "    def __add__(self, otherDog):\n",
    "        return Dog(\"Puppy of \" + self.name + \" and \" + otherDog.name, self.speakText + otherDog.speakText)\n",
    "\n",
    "def main():\n",
    "    boyDog = Dog(\"Tom\", \"WOOOOF\")\n",
    "    girlDog = Dog(\"Lisa\", \"barkbark\")\n",
    "    puppy = boyDog + girlDog    # this is overloading\n",
    "    print(puppy.speak())\n",
    "    print(puppy.getName())\n",
    "\n",
    "if __name__ == \"__main__\":\n",
    "    main()"
   ]
  },
  {
   "cell_type": "code",
   "execution_count": null,
   "metadata": {},
   "outputs": [],
   "source": []
  }
 ],
 "metadata": {
  "kernelspec": {
   "display_name": "Python 3",
   "language": "python",
   "name": "python3"
  },
  "language_info": {
   "codemirror_mode": {
    "name": "ipython",
    "version": 3
   },
   "file_extension": ".py",
   "mimetype": "text/x-python",
   "name": "python",
   "nbconvert_exporter": "python",
   "pygments_lexer": "ipython3",
   "version": "3.7.3"
  }
 },
 "nbformat": 4,
 "nbformat_minor": 2
}
